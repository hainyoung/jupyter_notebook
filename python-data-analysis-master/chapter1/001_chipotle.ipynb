{
 "cells": [
  {
   "cell_type": "code",
   "execution_count": 5,
   "metadata": {},
   "outputs": [
    {
     "name": "stdout",
     "output_type": "stream",
     "text": [
      "(4622, 5)\n",
      "===========================================================================================================\n",
      "<class 'pandas.core.frame.DataFrame'>\n",
      "RangeIndex: 4622 entries, 0 to 4621\n",
      "Data columns (total 5 columns):\n",
      " #   Column              Non-Null Count  Dtype \n",
      "---  ------              --------------  ----- \n",
      " 0   order_id            4622 non-null   int64 \n",
      " 1   quantity            4622 non-null   int64 \n",
      " 2   item_name           4622 non-null   object\n",
      " 3   choice_description  3376 non-null   object\n",
      " 4   item_price          4622 non-null   object\n",
      "dtypes: int64(2), object(3)\n",
      "memory usage: 180.7+ KB\n",
      "None\n"
     ]
    }
   ],
   "source": [
    "# -*- coding: utf-8 -*-\n",
    "\n",
    "# stpe1 탐색 : 데이터의 기초 정보 살펴보기\n",
    "\n",
    "# chipotle 데이터셋의 기초 정보 출력\n",
    "\n",
    "import pandas as pd\n",
    "\n",
    "file_path = '../data/chipotle.tsv' # '..' : 한 폴더 위라는 의미(현재 폴더 위의 data 폴더 내의 chipotle.tsv파일을 가리킨다)\n",
    "\n",
    "# read_csv() 함수를 통해 데이터를 데이터프레임형태로 불러온다\n",
    "chipo = pd.read_csv(file_path, sep = '\\t') # 파일경로, 옵션 설정(tab을 제거하고 데이터 읽어오기)\n",
    "\n",
    "print(chipo.shape) # 데이터의 행, 열 크기\n",
    "print(\"===========================================================================================================\")\n",
    "print(chipo.info()) # 데이터의 행, 열의 구성 정보"
   ]
  },
  {
   "cell_type": "code",
   "execution_count": 7,
   "metadata": {},
   "outputs": [],
   "source": [
    "# 실행 결과를 통해,,\n",
    "# 데이터가 4,622개의 행과 5개의 피처로 구성되어 있음을 알 수 있다\n",
    "# 또한 order_id, quantity는 int64(숫자)\n",
    "# 나머지 3개의 피처는 object 타입으로 이루어져있음을 알 수 있다\n",
    "# 특이한 것은 choice_description 피처가 3,376개의 non-null object로 구성되어 있다는 것!\n",
    "# 어떤 의미?\n",
    "\n",
    "# 데이터 프레임에서 object 타입은 일반적으로 '문자열'을 의미한다\n",
    "# 그리고 null 이라는 용어는 데이터가 비어 있는 것을 의미 == '결측값'\n",
    "# 즉, 3376 non-null object 라는 것은 3,376개의 비어 있지 않은 문자열 데이터가 있다는 정보이다\n",
    "# 하지만, 데이터의 개수는 4,622개이므로 choice_desription 피처는 1,246개의 결측값이 존재함을 의미한다"
   ]
  },
  {
   "cell_type": "code",
   "execution_count": 10,
   "metadata": {},
   "outputs": [
    {
     "data": {
      "text/html": [
       "<div>\n",
       "<style scoped>\n",
       "    .dataframe tbody tr th:only-of-type {\n",
       "        vertical-align: middle;\n",
       "    }\n",
       "\n",
       "    .dataframe tbody tr th {\n",
       "        vertical-align: top;\n",
       "    }\n",
       "\n",
       "    .dataframe thead th {\n",
       "        text-align: right;\n",
       "    }\n",
       "</style>\n",
       "<table border=\"1\" class=\"dataframe\">\n",
       "  <thead>\n",
       "    <tr style=\"text-align: right;\">\n",
       "      <th></th>\n",
       "      <th>order_id</th>\n",
       "      <th>quantity</th>\n",
       "      <th>item_name</th>\n",
       "      <th>choice_description</th>\n",
       "      <th>item_price</th>\n",
       "    </tr>\n",
       "  </thead>\n",
       "  <tbody>\n",
       "    <tr>\n",
       "      <th>0</th>\n",
       "      <td>1</td>\n",
       "      <td>1</td>\n",
       "      <td>Chips and Fresh Tomato Salsa</td>\n",
       "      <td>NaN</td>\n",
       "      <td>$2.39</td>\n",
       "    </tr>\n",
       "    <tr>\n",
       "      <th>1</th>\n",
       "      <td>1</td>\n",
       "      <td>1</td>\n",
       "      <td>Izze</td>\n",
       "      <td>[Clementine]</td>\n",
       "      <td>$3.39</td>\n",
       "    </tr>\n",
       "    <tr>\n",
       "      <th>2</th>\n",
       "      <td>1</td>\n",
       "      <td>1</td>\n",
       "      <td>Nantucket Nectar</td>\n",
       "      <td>[Apple]</td>\n",
       "      <td>$3.39</td>\n",
       "    </tr>\n",
       "    <tr>\n",
       "      <th>3</th>\n",
       "      <td>1</td>\n",
       "      <td>1</td>\n",
       "      <td>Chips and Tomatillo-Green Chili Salsa</td>\n",
       "      <td>NaN</td>\n",
       "      <td>$2.39</td>\n",
       "    </tr>\n",
       "    <tr>\n",
       "      <th>4</th>\n",
       "      <td>2</td>\n",
       "      <td>2</td>\n",
       "      <td>Chicken Bowl</td>\n",
       "      <td>[Tomatillo-Red Chili Salsa (Hot), [Black Beans...</td>\n",
       "      <td>$16.98</td>\n",
       "    </tr>\n",
       "    <tr>\n",
       "      <th>5</th>\n",
       "      <td>3</td>\n",
       "      <td>1</td>\n",
       "      <td>Chicken Bowl</td>\n",
       "      <td>[Fresh Tomato Salsa (Mild), [Rice, Cheese, Sou...</td>\n",
       "      <td>$10.98</td>\n",
       "    </tr>\n",
       "    <tr>\n",
       "      <th>6</th>\n",
       "      <td>3</td>\n",
       "      <td>1</td>\n",
       "      <td>Side of Chips</td>\n",
       "      <td>NaN</td>\n",
       "      <td>$1.69</td>\n",
       "    </tr>\n",
       "    <tr>\n",
       "      <th>7</th>\n",
       "      <td>4</td>\n",
       "      <td>1</td>\n",
       "      <td>Steak Burrito</td>\n",
       "      <td>[Tomatillo Red Chili Salsa, [Fajita Vegetables...</td>\n",
       "      <td>$11.75</td>\n",
       "    </tr>\n",
       "    <tr>\n",
       "      <th>8</th>\n",
       "      <td>4</td>\n",
       "      <td>1</td>\n",
       "      <td>Steak Soft Tacos</td>\n",
       "      <td>[Tomatillo Green Chili Salsa, [Pinto Beans, Ch...</td>\n",
       "      <td>$9.25</td>\n",
       "    </tr>\n",
       "    <tr>\n",
       "      <th>9</th>\n",
       "      <td>5</td>\n",
       "      <td>1</td>\n",
       "      <td>Steak Burrito</td>\n",
       "      <td>[Fresh Tomato Salsa, [Rice, Black Beans, Pinto...</td>\n",
       "      <td>$9.25</td>\n",
       "    </tr>\n",
       "  </tbody>\n",
       "</table>\n",
       "</div>"
      ],
      "text/plain": [
       "   order_id  quantity                              item_name  \\\n",
       "0         1         1           Chips and Fresh Tomato Salsa   \n",
       "1         1         1                                   Izze   \n",
       "2         1         1                       Nantucket Nectar   \n",
       "3         1         1  Chips and Tomatillo-Green Chili Salsa   \n",
       "4         2         2                           Chicken Bowl   \n",
       "5         3         1                           Chicken Bowl   \n",
       "6         3         1                          Side of Chips   \n",
       "7         4         1                          Steak Burrito   \n",
       "8         4         1                       Steak Soft Tacos   \n",
       "9         5         1                          Steak Burrito   \n",
       "\n",
       "                                  choice_description item_price  \n",
       "0                                                NaN     $2.39   \n",
       "1                                       [Clementine]     $3.39   \n",
       "2                                            [Apple]     $3.39   \n",
       "3                                                NaN     $2.39   \n",
       "4  [Tomatillo-Red Chili Salsa (Hot), [Black Beans...    $16.98   \n",
       "5  [Fresh Tomato Salsa (Mild), [Rice, Cheese, Sou...    $10.98   \n",
       "6                                                NaN     $1.69   \n",
       "7  [Tomatillo Red Chili Salsa, [Fajita Vegetables...    $11.75   \n",
       "8  [Tomatillo Green Chili Salsa, [Pinto Beans, Ch...     $9.25   \n",
       "9  [Fresh Tomato Salsa, [Rice, Black Beans, Pinto...     $9.25   "
      ]
     },
     "execution_count": 10,
     "metadata": {},
     "output_type": "execute_result"
    }
   ],
   "source": [
    "# 다음 코드\n",
    "# head(10) 함수는 첫 10개의 데이터를 테이블 형태로 출력한다 \n",
    "# 또한 columns(행의 목록)과 index(열의 목록)를 호출하면 데이터의 행과 열에 대한 정보를 함께 출력할 수 있다\n",
    "\n",
    "chipo.head(10)"
   ]
  },
  {
   "cell_type": "code",
   "execution_count": 9,
   "metadata": {},
   "outputs": [
    {
     "name": "stdout",
     "output_type": "stream",
     "text": [
      "Index(['order_id', 'quantity', 'item_name', 'choice_description',\n",
      "       'item_price'],\n",
      "      dtype='object')\n",
      "===========================================================================================================\n",
      "RangeIndex(start=0, stop=4622, step=1)\n"
     ]
    }
   ],
   "source": [
    "print(chipo.columns)\n",
    "print(\"===========================================================================================================\")\n",
    "print(chipo.index)"
   ]
  },
  {
   "cell_type": "code",
   "execution_count": 16,
   "metadata": {},
   "outputs": [],
   "source": [
    "# chipotle 데이터셋 피처의 의미는 각각 다음과 같다\n",
    "# order_id : 주문 번호\n",
    "# quantity : 아이템의 주문 수량\n",
    "# item_name : 주문한 아이템의 이름\n",
    "# choice_description : 주문한 아이템의 상세 선택 옵션\n",
    "# item_price : 주문 아이템의 가격 정보"
   ]
  },
  {
   "cell_type": "code",
   "execution_count": 17,
   "metadata": {},
   "outputs": [],
   "source": [
    "# quantity와 item_price의 수치적 특징\n",
    "\n",
    "# 이 두 피처는 연속형 피처이다\n",
    "# 연속형 피처는 키와 몸무게처럼 어떠한 값도 가질 수 있는 연속적인 숫자 형태를 의미한다\n",
    "\n",
    "\n",
    "# 피처 형태의 종류\n",
    "# 수치형 피처(Numerical Feature) , 범주형 피처(Categorical Feature)\n",
    "\n",
    "# 수치형 피처에는\n",
    "# - 연속형 피처 : 어떤 구간 안의 모든 값을 데이터로서 가질 수 있다(e.g. 키, 몸무게)\n",
    "# - 비연속형 피처 : 셀 수 있으며, 일정 구간 안에서 정해진 몇 개의 값을 가져야 한다(e.g. 나이)\n",
    "\n",
    "# 범주형 피처에는\n",
    "# - 순서 있는 범주형 피처 : 순서가 있으나, 수치는 아니다(e.g. 학점(A, B, ..., F))\n",
    "# - 순서 없는 범주형 피처 : 데이터가 구분되면서도 순서가 없다(e.g. 혈액형)"
   ]
  },
  {
   "cell_type": "code",
   "execution_count": 12,
   "metadata": {},
   "outputs": [
    {
     "name": "stdout",
     "output_type": "stream",
     "text": [
      "          quantity\n",
      "count  4622.000000\n",
      "mean      1.075725\n",
      "std       0.410186\n",
      "min       1.000000\n",
      "25%       1.000000\n",
      "50%       1.000000\n",
      "75%       1.000000\n",
      "max      15.000000\n"
     ]
    }
   ],
   "source": [
    "# 아래 코드는 describe() 함수를 통해 나타낸 피처의 기초 통계량\n",
    "# 현재 데이터에서 유일한 수치형 피처는 quantity 뿐(가격은 object)\n",
    "# 따라서 describe()로는 quantity에 대한 정보만을 출력할 수 있다\n",
    "\n",
    "# order_id는 숫자의 의미를 가지지 않기 때문에 str으로 변환한다\n",
    "chipo['order_id'] = chipo['order_id'].astype(str)\n",
    "\n",
    "print(chipo.describe()) # chipo 데이터 프레임에서 수치형 피처들의 기초 통계량을 확인"
   ]
  },
  {
   "cell_type": "code",
   "execution_count": 13,
   "metadata": {},
   "outputs": [],
   "source": [
    "# 아이템의 평균 주문 수량(mean) : 약 1.07\n",
    "# - 대부분이 한 아이템에 대해 1개 정도만 주문 == '한 사람이 같은 메뉴를 여러 개 구매하는 경우는 많지 않다' 라는 인사이트를 얻을 수 있음\n",
    "\n",
    "# 그렇다면 item_price의 수치적 특징은 어떻게 알아볼까\n",
    "# 현재 item_price 피처는 object 타입이기 때문에 describe() 함수로 기초 통계량을 확인할 수가 없다\n",
    "# 이를 위해서는 추가적인 데이터 전처리 작업이 필요(step3 에서)"
   ]
  },
  {
   "cell_type": "code",
   "execution_count": 15,
   "metadata": {},
   "outputs": [
    {
     "name": "stdout",
     "output_type": "stream",
     "text": [
      "1834\n",
      "50\n"
     ]
    }
   ],
   "source": [
    "# order_id와 item_name의 개수 탐색\n",
    "# 이 두 피처는 범주형 피처이기 때문에 unique() 함수를 사용한다\n",
    "# 이를 통해 피처 내에 몇 개의 범주가 있는지를 확인할 수 있다\n",
    "\n",
    "print(len(chipo['order_id'].unique())) # order_id의 개수를 출력\n",
    "print(len(chipo['item_name'].unique())) # item_name의 개수를 출력"
   ]
  },
  {
   "cell_type": "code",
   "execution_count": 23,
   "metadata": {},
   "outputs": [
    {
     "name": "stdout",
     "output_type": "stream",
     "text": [
      "Top 1 : Chicken Bowl 726\n",
      "Top 2 : Chicken Burrito 553\n",
      "Top 3 : Chips and Guacamole 479\n",
      "Top 4 : Steak Burrito 368\n",
      "Top 5 : Canned Soft Drink 301\n",
      "Top 6 : Steak Bowl 211\n",
      "Top 7 : Chips 211\n",
      "Top 8 : Bottled Water 162\n",
      "Top 9 : Chicken Soft Tacos 115\n",
      "Top 10 : Chips and Fresh Tomato Salsa 110\n"
     ]
    }
   ],
   "source": [
    "# 인사이트의 발견 : 탐색과 시각화\n",
    "\n",
    "# 가장 많이 주문한 아이템 Top 10\n",
    "# 이를 분석하기 위해서는 DataFrame['column'] 의 형태에 value_counts() 함수를 적용한다\n",
    "# DataFrame['column']은 시리즈 series라는 객체를 반환하는데\n",
    "# value_counts() 함수는 오로지 이러한 시리즈 객체에만 적용되기 때문이다\n",
    "\n",
    "# 가장 많이 주문한 아이템 Top 10 출력\n",
    "\n",
    "item_count = chipo['item_name'].value_counts()[:10] # value_count()만 적으면 자동으로 많이 나온 순서대로 정렬됨\n",
    "                                                    # [:10] 슬라이싱으로, top10까지 item_count 변수에 저장\n",
    "\n",
    "# 위의 top10 출력 코드를 조금 더 보기 좋게 만드는 코드\n",
    "for idx, (val, cnt) in enumerate(item_count.iteritems(), 1): # 1: index 1부터 시작하는 옵션\n",
    "                                                             # iteritems()는 '키'와 '값'의 쌍을 iterator(반복자)로 반환한다\n",
    "    print(\"Top\", idx, \":\", val, cnt)"
   ]
  },
  {
   "cell_type": "code",
   "execution_count": 28,
   "metadata": {},
   "outputs": [
    {
     "data": {
      "text/plain": [
       "item_name\n",
       "6 Pack Soft Drink         54\n",
       "Barbacoa Bowl             66\n",
       "Barbacoa Burrito          91\n",
       "Barbacoa Crispy Tacos     11\n",
       "Barbacoa Salad Bowl       10\n",
       "Barbacoa Soft Tacos       25\n",
       "Bottled Water            162\n",
       "Bowl                       2\n",
       "Burrito                    6\n",
       "Canned Soda              104\n",
       "Name: order_id, dtype: int64"
      ]
     },
     "execution_count": 28,
     "metadata": {},
     "output_type": "execute_result"
    }
   ],
   "source": [
    "# 아이템별 주문 개수와 총량\n",
    "\n",
    "# groupby() 함수를 이용하여 아이템별 주문 개수와 총량을 구해보자\n",
    "# groupby() 함수는 데이터 프레임에서 특정 피처를 기준으로 그룹을 생성하며\n",
    "# 이를 통해 그룹별 연산을 적용할 수 잇다\n",
    "# 예를 들어 '학급'이라는 그룹을 만들었을 때, '학급별 평균 키', '학급별 평균 몸무게' 등을 구하는 것처럼\n",
    "\n",
    "# 아이템별 주문 개수 출력\n",
    "order_count = chipo.groupby('item_name')['order_id'].count()\n",
    "order_count[:10]"
   ]
  },
  {
   "cell_type": "code",
   "execution_count": 17,
   "metadata": {},
   "outputs": [
    {
     "data": {
      "text/plain": [
       "item_name\n",
       "6 Pack Soft Drink                         55\n",
       "Barbacoa Bowl                             66\n",
       "Barbacoa Burrito                          91\n",
       "Barbacoa Crispy Tacos                     12\n",
       "Barbacoa Salad Bowl                       10\n",
       "Barbacoa Soft Tacos                       25\n",
       "Bottled Water                            211\n",
       "Bowl                                       4\n",
       "Burrito                                    6\n",
       "Canned Soda                              126\n",
       "Canned Soft Drink                        351\n",
       "Carnitas Bowl                             71\n",
       "Carnitas Burrito                          60\n",
       "Carnitas Crispy Tacos                      8\n",
       "Carnitas Salad                             1\n",
       "Carnitas Salad Bowl                        6\n",
       "Carnitas Soft Tacos                       40\n",
       "Chicken Bowl                             761\n",
       "Chicken Burrito                          591\n",
       "Chicken Crispy Tacos                      50\n",
       "Chicken Salad                              9\n",
       "Chicken Salad Bowl                       123\n",
       "Chicken Soft Tacos                       120\n",
       "Chips                                    230\n",
       "Chips and Fresh Tomato Salsa             130\n",
       "Chips and Guacamole                      506\n",
       "Chips and Mild Fresh Tomato Salsa          1\n",
       "Chips and Roasted Chili Corn Salsa        23\n",
       "Chips and Roasted Chili-Corn Salsa        18\n",
       "Chips and Tomatillo Green Chili Salsa     45\n",
       "Chips and Tomatillo Red Chili Salsa       50\n",
       "Chips and Tomatillo-Green Chili Salsa     33\n",
       "Chips and Tomatillo-Red Chili Salsa       25\n",
       "Crispy Tacos                               2\n",
       "Izze                                      20\n",
       "Nantucket Nectar                          29\n",
       "Salad                                      2\n",
       "Side of Chips                            110\n",
       "Steak Bowl                               221\n",
       "Steak Burrito                            386\n",
       "Steak Crispy Tacos                        36\n",
       "Steak Salad                                4\n",
       "Steak Salad Bowl                          31\n",
       "Steak Soft Tacos                          56\n",
       "Veggie Bowl                               87\n",
       "Veggie Burrito                            97\n",
       "Veggie Crispy Tacos                        1\n",
       "Veggie Salad                               6\n",
       "Veggie Salad Bowl                         18\n",
       "Veggie Soft Tacos                          8\n",
       "Name: quantity, dtype: int64"
      ]
     },
     "execution_count": 17,
     "metadata": {},
     "output_type": "execute_result"
    }
   ],
   "source": [
    "# 아이템별 주문 총량 계산\n",
    "\n",
    "item_quantity = chipo.groupby('item_name')['quantity'].sum()\n",
    "# item_quantity[:10]\n",
    "item_quantity"
   ]
  },
  {
   "cell_type": "code",
   "execution_count": 30,
   "metadata": {},
   "outputs": [],
   "source": [
    "# chipo.groupby('item_name')['order_id'].count()는 chipo DataFrame에서 item_name을 그룹으로 quantity 피처의 count()를 계산\n",
    "# 이는 아이템별 주문 개수를 의미한다\n",
    "\n",
    "# chipo.groupby('item_name')['quantity'].sum()은 아이템 주문 총량을 나타낸다"
   ]
  },
  {
   "cell_type": "code",
   "execution_count": 35,
   "metadata": {},
   "outputs": [
    {
     "name": "stdout",
     "output_type": "stream",
     "text": [
      "item_name_list\n",
      "['6 Pack Soft Drink', 'Barbacoa Bowl', 'Barbacoa Burrito', 'Barbacoa Crispy Tacos', 'Barbacoa Salad Bowl', 'Barbacoa Soft Tacos', 'Bottled Water', 'Bowl', 'Burrito', 'Canned Soda', 'Canned Soft Drink', 'Carnitas Bowl', 'Carnitas Burrito', 'Carnitas Crispy Tacos', 'Carnitas Salad', 'Carnitas Salad Bowl', 'Carnitas Soft Tacos', 'Chicken Bowl', 'Chicken Burrito', 'Chicken Crispy Tacos', 'Chicken Salad', 'Chicken Salad Bowl', 'Chicken Soft Tacos', 'Chips', 'Chips and Fresh Tomato Salsa', 'Chips and Guacamole', 'Chips and Mild Fresh Tomato Salsa', 'Chips and Roasted Chili Corn Salsa', 'Chips and Roasted Chili-Corn Salsa', 'Chips and Tomatillo Green Chili Salsa', 'Chips and Tomatillo Red Chili Salsa', 'Chips and Tomatillo-Green Chili Salsa', 'Chips and Tomatillo-Red Chili Salsa', 'Crispy Tacos', 'Izze', 'Nantucket Nectar', 'Salad', 'Side of Chips', 'Steak Bowl', 'Steak Burrito', 'Steak Crispy Tacos', 'Steak Salad', 'Steak Salad Bowl', 'Steak Soft Tacos', 'Veggie Bowl', 'Veggie Burrito', 'Veggie Crispy Tacos', 'Veggie Salad', 'Veggie Salad Bowl', 'Veggie Soft Tacos']\n",
      "50\n",
      "[55, 66, 91, 12, 10, 25, 211, 4, 6, 126, 351, 71, 60, 8, 1, 6, 40, 761, 591, 50, 9, 123, 120, 230, 130, 506, 1, 23, 18, 45, 50, 33, 25, 2, 20, 29, 2, 110, 221, 386, 36, 4, 31, 56, 87, 97, 1, 6, 18, 8]\n"
     ]
    },
    {
     "data": {
      "image/png": "[encoded data removed]",
      "text/plain": [
       "<Figure size 432x288 with 1 Axes>"
      ]
     },
     "metadata": {
      "needs_background": "light"
     },
     "output_type": "display_data"
    }
   ],
   "source": [
    "# 시각화\n",
    "\n",
    "# 아이템별 주문의 총량을 막대그래프로 시각화해 볼 수 있다\n",
    "# 코드에서 tolist()와 넘파이의 arrange() 함수를 이용하여 x_pos를 선언,\n",
    "# 0 ~ 50 까지의 숫자를 그래프의 x축 이름으로 사용\n",
    "# 그 이유는 50개의 아이템의 이름을 x축에 표현하기에는 공간이 너무 협소\n",
    "# y값(order_cnt)에는 주문 총량에 해당하는 값인 \n",
    "# item_quantity.values.tolist()를 넣어준다\n",
    "\n",
    "%matplotlib inline\n",
    "import numpy as np\n",
    "import matplotlib.pyplot as plt\n",
    "\n",
    "item_name_list = item_quantity.index.tolist() # index를 list로 출력\n",
    "                                              # 그냥 tolist 하니까 주문 총량이 나오고 index.tolist 하니까 item name이 나옴\n",
    "                                              # item_quantity의 index == item_name \n",
    "print(\"item_name_list\")\n",
    "print(item_name_list)\n",
    "print(len(item_name_list))\n",
    "\n",
    "x_pos = np.arange(len(item_name_list)) # 총 50가지 item, numpy 형태로 배열 생성(0부터 49)\n",
    "\n",
    "# np.arange\n",
    "# np.arange(3) -> array([0, 1, 2])\n",
    "# np.arange(3.0) -> array([0., 1., 2.])\n",
    "# np.arange(3,7) -> array([3, 4, 5, 6])\n",
    "# np.arange(3,7,2) -> array([3, 5])\n",
    "\n",
    "\n",
    "order_cnt = item_quantity.values.tolist() \n",
    "\n",
    "print(order_cnt)\n",
    "\n",
    "plt.bar(x_pos, order_cnt, align = 'center') # plt.bar(x축, y축, )\n",
    "plt.ylabel('ordered_item_count')\n",
    "plt.title('Distribution of all ordered item')\n",
    "\n",
    "plt.show()"
   ]
  },
  {
   "cell_type": "code",
   "execution_count": 16,
   "metadata": {},
   "outputs": [
    {
     "name": "stdout",
     "output_type": "stream",
     "text": [
      "['Chips and Fresh Tomato Salsa' 'Izze' 'Nantucket Nectar'\n",
      " 'Chips and Tomatillo-Green Chili Salsa' 'Chicken Bowl' 'Side of Chips'\n",
      " 'Steak Burrito' 'Steak Soft Tacos' 'Chips and Guacamole'\n",
      " 'Chicken Crispy Tacos' 'Chicken Soft Tacos' 'Chicken Burrito'\n",
      " 'Canned Soda' 'Barbacoa Burrito' 'Carnitas Burrito' 'Carnitas Bowl'\n",
      " 'Bottled Water' 'Chips and Tomatillo Green Chili Salsa' 'Barbacoa Bowl'\n",
      " 'Chips' 'Chicken Salad Bowl' 'Steak Bowl' 'Barbacoa Soft Tacos'\n",
      " 'Veggie Burrito' 'Veggie Bowl' 'Steak Crispy Tacos'\n",
      " 'Chips and Tomatillo Red Chili Salsa' 'Barbacoa Crispy Tacos'\n",
      " 'Veggie Salad Bowl' 'Chips and Roasted Chili-Corn Salsa'\n",
      " 'Chips and Roasted Chili Corn Salsa' 'Carnitas Soft Tacos'\n",
      " 'Chicken Salad' 'Canned Soft Drink' 'Steak Salad Bowl'\n",
      " '6 Pack Soft Drink' 'Chips and Tomatillo-Red Chili Salsa' 'Bowl'\n",
      " 'Burrito' 'Crispy Tacos' 'Carnitas Crispy Tacos' 'Steak Salad'\n",
      " 'Chips and Mild Fresh Tomato Salsa' 'Veggie Soft Tacos'\n",
      " 'Carnitas Salad Bowl' 'Barbacoa Salad Bowl' 'Salad' 'Veggie Crispy Tacos'\n",
      " 'Veggie Salad' 'Carnitas Salad']\n",
      "50\n"
     ]
    }
   ],
   "source": [
    "tmp = chipo['item_name'].unique()\n",
    "print(tmp)\n",
    "print(len(tmp))"
   ]
  },
  {
   "cell_type": "code",
   "execution_count": 26,
   "metadata": {},
   "outputs": [
    {
     "name": "stdout",
     "output_type": "stream",
     "text": [
      "[ 0  1  2  3  4  5  6  7  8  9 10 11 12 13 14 15 16 17 18 19 20 21 22 23\n",
      " 24 25 26 27 28 29 30 31 32 33 34 35 36 37 38 39 40 41 42 43 44 45 46 47\n",
      " 48 49]\n"
     ]
    }
   ],
   "source": [
    "a = np.arange(50)\n",
    "print(a)"
   ]
  },
  {
   "cell_type": "code",
   "execution_count": null,
   "metadata": {},
   "outputs": [],
   "source": []
  }
 ],
 "metadata": {
  "kernelspec": {
   "display_name": "Python 3",
   "language": "python",
   "name": "python3"
  },
  "language_info": {
   "codemirror_mode": {
    "name": "ipython",
    "version": 3
   },
   "file_extension": ".py",
   "mimetype": "text/x-python",
   "name": "python",
   "nbconvert_exporter": "python",
   "pygments_lexer": "ipython3",
   "version": "3.7.7"
  }
 },
 "nbformat": 4,
 "nbformat_minor": 4
}
