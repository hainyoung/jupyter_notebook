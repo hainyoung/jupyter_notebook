{
 "cells": [
  {
   "cell_type": "code",
   "execution_count": 1,
   "metadata": {},
   "outputs": [],
   "source": [
    "import numpy as np\n",
    "import tensorflow as tf\n",
    "from tensorflow import keras"
   ]
  },
  {
   "cell_type": "code",
   "execution_count": 2,
   "metadata": {},
   "outputs": [],
   "source": [
    "xs = np.array([-1.0, 0.0, 1.0, 2.0, 3.0, 4.0], dtype=float)\n",
    "ys = np.array([0.0, 1.0, 2.0, 3.0, 4.0, 5.0], dtype=float)\n",
    "\n",
    "xt = np.array([6.0, 7.0, 8.0, 9.0, 10.0, 11.0], dtype=float)\n",
    "yt = np.array([7.0, 8.0, 9.0, 10.0, 11.0, 12.0], dtype=float)"
   ]
  },
  {
   "cell_type": "code",
   "execution_count": 3,
   "metadata": {},
   "outputs": [
    {
     "data": {
      "text/plain": [
       "(6,)"
      ]
     },
     "execution_count": 3,
     "metadata": {},
     "output_type": "execute_result"
    }
   ],
   "source": [
    "xs.shape"
   ]
  },
  {
   "cell_type": "code",
   "execution_count": 4,
   "metadata": {},
   "outputs": [
    {
     "data": {
      "text/plain": [
       "(6,)"
      ]
     },
     "execution_count": 4,
     "metadata": {},
     "output_type": "execute_result"
    }
   ],
   "source": [
    "ys.shape"
   ]
  },
  {
   "cell_type": "code",
   "execution_count": 5,
   "metadata": {},
   "outputs": [
    {
     "name": "stdout",
     "output_type": "stream",
     "text": [
      "Epoch 1/100\n",
      "6/6 [==============================] - 0s 5ms/step - loss: 3.3792 - mse: 3.3792\n",
      "Epoch 2/100\n",
      "6/6 [==============================] - 0s 6ms/step - loss: 0.8428 - mse: 0.8428\n",
      "Epoch 3/100\n",
      "6/6 [==============================] - 0s 5ms/step - loss: 1.4950 - mse: 1.4950\n",
      "Epoch 4/100\n",
      "6/6 [==============================] - 0s 5ms/step - loss: 0.7156 - mse: 0.7156\n",
      "Epoch 5/100\n",
      "6/6 [==============================] - 0s 3ms/step - loss: 0.3976 - mse: 0.3976\n",
      "Epoch 6/100\n",
      "6/6 [==============================] - 0s 3ms/step - loss: 0.4871 - mse: 0.4871\n",
      "Epoch 7/100\n",
      "6/6 [==============================] - 0s 3ms/step - loss: 0.2095 - mse: 0.2095\n",
      "Epoch 8/100\n",
      "6/6 [==============================] - 0s 2ms/step - loss: 0.2518 - mse: 0.2518\n",
      "Epoch 9/100\n",
      "6/6 [==============================] - 0s 3ms/step - loss: 0.1482 - mse: 0.1482\n",
      "Epoch 10/100\n",
      "6/6 [==============================] - 0s 3ms/step - loss: 0.1650 - mse: 0.1650\n",
      "Epoch 11/100\n",
      "6/6 [==============================] - 0s 3ms/step - loss: 0.0810 - mse: 0.0810\n",
      "Epoch 12/100\n",
      "6/6 [==============================] - 0s 2ms/step - loss: 0.0713 - mse: 0.0713\n",
      "Epoch 13/100\n",
      "6/6 [==============================] - 0s 3ms/step - loss: 0.0486 - mse: 0.0486\n",
      "Epoch 14/100\n",
      "6/6 [==============================] - 0s 3ms/step - loss: 0.0270 - mse: 0.0270\n",
      "Epoch 15/100\n",
      "6/6 [==============================] - 0s 3ms/step - loss: 0.0244 - mse: 0.0244\n",
      "Epoch 16/100\n",
      "6/6 [==============================] - 0s 3ms/step - loss: 0.0091 - mse: 0.0091\n",
      "Epoch 17/100\n",
      "6/6 [==============================] - 0s 3ms/step - loss: 0.0198 - mse: 0.0198\n",
      "Epoch 18/100\n",
      "6/6 [==============================] - 0s 3ms/step - loss: 0.0115 - mse: 0.0115\n",
      "Epoch 19/100\n",
      "6/6 [==============================] - 0s 3ms/step - loss: 0.0074 - mse: 0.0074    \n",
      "Epoch 20/100\n",
      "6/6 [==============================] - 0s 3ms/step - loss: 0.0036 - mse: 0.0036\n",
      "Epoch 21/100\n",
      "6/6 [==============================] - 0s 2ms/step - loss: 0.0014 - mse: 0.0014\n",
      "Epoch 22/100\n",
      "6/6 [==============================] - 0s 2ms/step - loss: 0.0041 - mse: 0.0041\n",
      "Epoch 23/100\n",
      "6/6 [==============================] - 0s 3ms/step - loss: 0.0040 - mse: 0.0040\n",
      "Epoch 24/100\n",
      "6/6 [==============================] - 0s 3ms/step - loss: 0.0019 - mse: 0.0019    \n",
      "Epoch 25/100\n",
      "6/6 [==============================] - 0s 3ms/step - loss: 0.0021 - mse: 0.0021    \n",
      "Epoch 26/100\n",
      "6/6 [==============================] - 0s 3ms/step - loss: 0.0017 - mse: 0.0017\n",
      "Epoch 27/100\n",
      "6/6 [==============================] - 0s 3ms/step - loss: 6.5483e-04 - mse: 6.5483e-04\n",
      "Epoch 28/100\n",
      "6/6 [==============================] - 0s 2ms/step - loss: 5.3745e-04 - mse: 5.3745e-04\n",
      "Epoch 29/100\n",
      "6/6 [==============================] - 0s 3ms/step - loss: 1.5491e-04 - mse: 1.5491e-04\n",
      "Epoch 30/100\n",
      "6/6 [==============================] - 0s 2ms/step - loss: 9.8835e-04 - mse: 9.8835e-04\n",
      "Epoch 31/100\n",
      "6/6 [==============================] - 0s 3ms/step - loss: 0.0012 - mse: 0.0012    \n",
      "Epoch 32/100\n",
      "6/6 [==============================] - 0s 3ms/step - loss: 4.2119e-04 - mse: 4.2119e-04\n",
      "Epoch 33/100\n",
      "6/6 [==============================] - 0s 3ms/step - loss: 1.2110e-04 - mse: 1.2110e-04\n",
      "Epoch 34/100\n",
      "6/6 [==============================] - 0s 3ms/step - loss: 3.3687e-05 - mse: 3.3687e-05\n",
      "Epoch 35/100\n",
      "6/6 [==============================] - 0s 2ms/step - loss: 1.8404e-05 - mse: 1.8404e-05\n",
      "Epoch 36/100\n",
      "6/6 [==============================] - 0s 2ms/step - loss: 8.2322e-05 - mse: 8.2322e-05\n",
      "Epoch 37/100\n",
      "6/6 [==============================] - 0s 2ms/step - loss: 2.2374e-04 - mse: 2.2374e-04\n",
      "Epoch 38/100\n",
      "6/6 [==============================] - 0s 2ms/step - loss: 6.2598e-04 - mse: 6.2598e-04\n",
      "Epoch 39/100\n",
      "6/6 [==============================] - 0s 3ms/step - loss: 0.0013 - mse: 0.0013    \n",
      "Epoch 40/100\n",
      "6/6 [==============================] - 0s 3ms/step - loss: 6.2726e-04 - mse: 6.2726e-04\n",
      "Epoch 41/100\n",
      "6/6 [==============================] - 0s 3ms/step - loss: 9.1837e-05 - mse: 9.1837e-05\n",
      "Epoch 42/100\n",
      "6/6 [==============================] - 0s 2ms/step - loss: 9.2653e-06 - mse: 9.2653e-06\n",
      "Epoch 43/100\n",
      "6/6 [==============================] - 0s 3ms/step - loss: 5.6192e-05 - mse: 5.6192e-05\n",
      "Epoch 44/100\n",
      "6/6 [==============================] - 0s 3ms/step - loss: 3.8640e-05 - mse: 3.8640e-05\n",
      "Epoch 45/100\n",
      "6/6 [==============================] - 0s 3ms/step - loss: 8.5952e-05 - mse: 8.5952e-05\n",
      "Epoch 46/100\n",
      "6/6 [==============================] - 0s 3ms/step - loss: 7.4136e-05 - mse: 7.4136e-05\n",
      "Epoch 47/100\n",
      "6/6 [==============================] - 0s 3ms/step - loss: 1.3214e-04 - mse: 1.3214e-04\n",
      "Epoch 48/100\n",
      "6/6 [==============================] - 0s 3ms/step - loss: 1.2743e-04 - mse: 1.2743e-04\n",
      "Epoch 49/100\n",
      "6/6 [==============================] - 0s 3ms/step - loss: 1.7017e-04 - mse: 1.7017e-04\n",
      "Epoch 50/100\n",
      "6/6 [==============================] - 0s 2ms/step - loss: 3.4491e-04 - mse: 3.4491e-04\n",
      "Epoch 51/100\n",
      "6/6 [==============================] - 0s 2ms/step - loss: 8.9872e-04 - mse: 8.9872e-04\n",
      "Epoch 52/100\n",
      "6/6 [==============================] - 0s 3ms/step - loss: 6.0941e-04 - mse: 6.0941e-04\n",
      "Epoch 53/100\n",
      "6/6 [==============================] - 0s 3ms/step - loss: 6.6710e-04 - mse: 6.6710e-04\n",
      "Epoch 54/100\n",
      "6/6 [==============================] - 0s 2ms/step - loss: 0.0016 - mse: 0.0016\n",
      "Epoch 55/100\n",
      "6/6 [==============================] - 0s 2ms/step - loss: 5.2456e-04 - mse: 5.2456e-04\n",
      "Epoch 56/100\n",
      "6/6 [==============================] - 0s 2ms/step - loss: 1.2304e-04 - mse: 1.2304e-04\n",
      "Epoch 57/100\n",
      "6/6 [==============================] - 0s 3ms/step - loss: 1.4787e-04 - mse: 1.4787e-04\n",
      "Epoch 58/100\n",
      "6/6 [==============================] - 0s 2ms/step - loss: 1.4016e-04 - mse: 1.4016e-04\n",
      "Epoch 59/100\n",
      "6/6 [==============================] - 0s 3ms/step - loss: 2.6485e-04 - mse: 2.6485e-04\n",
      "Epoch 60/100\n",
      "6/6 [==============================] - 0s 2ms/step - loss: 3.2405e-04 - mse: 3.2405e-04\n",
      "Epoch 61/100\n",
      "6/6 [==============================] - 0s 3ms/step - loss: 2.1071e-04 - mse: 2.1071e-04\n",
      "Epoch 62/100\n",
      "6/6 [==============================] - 0s 3ms/step - loss: 1.9288e-04 - mse: 1.9288e-04\n",
      "Epoch 63/100\n",
      "6/6 [==============================] - 0s 3ms/step - loss: 1.7739e-04 - mse: 1.7739e-04\n",
      "Epoch 64/100\n",
      "6/6 [==============================] - 0s 3ms/step - loss: 1.4981e-04 - mse: 1.4981e-04\n",
      "Epoch 65/100\n",
      "6/6 [==============================] - 0s 2ms/step - loss: 1.7880e-04 - mse: 1.7880e-04\n",
      "Epoch 66/100\n",
      "6/6 [==============================] - 0s 3ms/step - loss: 2.6649e-04 - mse: 2.6649e-04\n",
      "Epoch 67/100\n",
      "6/6 [==============================] - 0s 3ms/step - loss: 6.0607e-05 - mse: 6.0607e-05\n",
      "Epoch 68/100\n",
      "6/6 [==============================] - 0s 3ms/step - loss: 1.1404e-05 - mse: 1.1404e-05\n",
      "Epoch 69/100\n",
      "6/6 [==============================] - 0s 2ms/step - loss: 9.5429e-06 - mse: 9.5429e-06\n",
      "Epoch 70/100\n",
      "6/6 [==============================] - 0s 2ms/step - loss: 4.2294e-06 - mse: 4.2294e-06\n",
      "Epoch 71/100\n",
      "6/6 [==============================] - 0s 3ms/step - loss: 3.9337e-06 - mse: 3.9337e-06\n",
      "Epoch 72/100\n",
      "6/6 [==============================] - 0s 3ms/step - loss: 1.0356e-05 - mse: 1.0356e-05\n",
      "Epoch 73/100\n",
      "6/6 [==============================] - 0s 3ms/step - loss: 1.0568e-05 - mse: 1.0568e-05\n",
      "Epoch 74/100\n",
      "6/6 [==============================] - 0s 3ms/step - loss: 2.0633e-05 - mse: 2.0633e-05\n",
      "Epoch 75/100\n",
      "6/6 [==============================] - 0s 2ms/step - loss: 3.8342e-05 - mse: 3.8342e-05\n",
      "Epoch 76/100\n",
      "6/6 [==============================] - 0s 2ms/step - loss: 2.4881e-05 - mse: 2.4881e-05\n",
      "Epoch 77/100\n",
      "6/6 [==============================] - 0s 3ms/step - loss: 1.8103e-05 - mse: 1.8103e-05\n",
      "Epoch 78/100\n",
      "6/6 [==============================] - 0s 2ms/step - loss: 7.7638e-05 - mse: 7.7638e-05\n",
      "Epoch 79/100\n",
      "6/6 [==============================] - 0s 3ms/step - loss: 2.4246e-04 - mse: 2.4246e-04\n",
      "Epoch 80/100\n",
      "6/6 [==============================] - 0s 2ms/step - loss: 1.1133e-04 - mse: 1.1133e-04\n",
      "Epoch 81/100\n",
      "6/6 [==============================] - 0s 2ms/step - loss: 2.3751e-04 - mse: 2.3751e-04\n",
      "Epoch 82/100\n",
      "6/6 [==============================] - 0s 2ms/step - loss: 0.0010 - mse: 0.0010    \n",
      "Epoch 83/100\n",
      "6/6 [==============================] - 0s 3ms/step - loss: 0.0024 - mse: 0.0024\n",
      "Epoch 84/100\n"
     ]
    },
    {
     "name": "stdout",
     "output_type": "stream",
     "text": [
      "6/6 [==============================] - 0s 3ms/step - loss: 0.0045 - mse: 0.0045\n",
      "Epoch 85/100\n",
      "6/6 [==============================] - 0s 2ms/step - loss: 0.0045 - mse: 0.0045    \n",
      "Epoch 86/100\n",
      "6/6 [==============================] - 0s 2ms/step - loss: 8.7517e-04 - mse: 8.7517e-04\n",
      "Epoch 87/100\n",
      "6/6 [==============================] - 0s 2ms/step - loss: 0.0030 - mse: 0.0030\n",
      "Epoch 88/100\n",
      "6/6 [==============================] - 0s 2ms/step - loss: 0.0072 - mse: 0.0072\n",
      "Epoch 89/100\n",
      "6/6 [==============================] - 0s 3ms/step - loss: 0.0172 - mse: 0.0172    \n",
      "Epoch 90/100\n",
      "6/6 [==============================] - 0s 2ms/step - loss: 0.0340 - mse: 0.0340\n",
      "Epoch 91/100\n",
      "6/6 [==============================] - 0s 3ms/step - loss: 0.0841 - mse: 0.0841\n",
      "Epoch 92/100\n",
      "6/6 [==============================] - ETA: 0s - loss: 0.0000e+00 - mse: 0.0000e+0 - 0s 3ms/step - loss: 0.3013 - mse: 0.3013    \n",
      "Epoch 93/100\n",
      "6/6 [==============================] - 0s 3ms/step - loss: 0.5608 - mse: 0.5608\n",
      "Epoch 94/100\n",
      "6/6 [==============================] - 0s 3ms/step - loss: 0.5686 - mse: 0.5686\n",
      "Epoch 95/100\n",
      "6/6 [==============================] - 0s 2ms/step - loss: 0.0918 - mse: 0.0918\n",
      "Epoch 96/100\n",
      "6/6 [==============================] - 0s 3ms/step - loss: 0.0235 - mse: 0.0235\n",
      "Epoch 97/100\n",
      "6/6 [==============================] - 0s 2ms/step - loss: 0.0181 - mse: 0.0181\n",
      "Epoch 98/100\n",
      "6/6 [==============================] - 0s 3ms/step - loss: 0.0045 - mse: 0.0045    \n",
      "Epoch 99/100\n",
      "6/6 [==============================] - 0s 2ms/step - loss: 0.0014 - mse: 0.0014\n",
      "Epoch 100/100\n",
      "6/6 [==============================] - 0s 3ms/step - loss: 6.1595e-04 - mse: 6.1595e-04\n"
     ]
    },
    {
     "data": {
      "text/plain": [
       "<tensorflow.python.keras.callbacks.History at 0x29308006e88>"
      ]
     },
     "execution_count": 5,
     "metadata": {},
     "output_type": "execute_result"
    }
   ],
   "source": [
    "model = keras.Sequential()\n",
    "model.add(keras.layers.Dense(8, input_dim = 1, activation = 'relu'))\n",
    "model.add(keras.layers.Dense(16))\n",
    "model.add(keras.layers.Dense(32))\n",
    "model.add(keras.layers.Dense(64))\n",
    "model.add(keras.layers.Dense(128))\n",
    "model.add(keras.layers.Dense(64))\n",
    "model.add(keras.layers.Dense(32))\n",
    "model.add(keras.layers.Dense(16))\n",
    "model.add(keras.layers.Dense(8))\n",
    "model.add(keras.layers.Dense(1, activation = 'relu'))\n",
    "# model.compile(loss='mean_squared_error', optimizer='adam', metrics=['acc'])\n",
    "model.compile(loss='mean_squared_error', optimizer='adam', metrics=['mse'])\n",
    "model.fit(xs, ys, epochs=100, batch_size=1)"
   ]
  },
  {
   "cell_type": "code",
   "execution_count": 6,
   "metadata": {},
   "outputs": [
    {
     "name": "stdout",
     "output_type": "stream",
     "text": [
      "6/6 [==============================] - 0s 2ms/step - loss: 0.0240 - mse: 0.0240\n"
     ]
    }
   ],
   "source": [
    "# loss, acc = model.evaluate(xt, yt, batch_size=1)\n",
    "loss, mse = model.evaluate(xt, yt, batch_size=1)"
   ]
  },
  {
   "cell_type": "code",
   "execution_count": 7,
   "metadata": {},
   "outputs": [
    {
     "data": {
      "text/plain": [
       "(0.024015456438064575, 0.024015456438064575)"
      ]
     },
     "execution_count": 7,
     "metadata": {},
     "output_type": "execute_result"
    }
   ],
   "source": [
    "# loss, acc\n",
    "loss, mse"
   ]
  },
  {
   "cell_type": "code",
   "execution_count": 8,
   "metadata": {},
   "outputs": [
    {
     "data": {
      "text/plain": [
       "array([[ 6.899368 ],\n",
       "       [ 7.8791857],\n",
       "       [ 8.859004 ],\n",
       "       [ 9.838821 ],\n",
       "       [10.818641 ],\n",
       "       [11.798457 ]], dtype=float32)"
      ]
     },
     "execution_count": 8,
     "metadata": {},
     "output_type": "execute_result"
    }
   ],
   "source": [
    "output = model.predict(xt)\n",
    "output"
   ]
  },
  {
   "cell_type": "code",
   "execution_count": null,
   "metadata": {},
   "outputs": [],
   "source": []
  }
 ],
 "metadata": {
  "kernelspec": {
   "display_name": "Python 3",
   "language": "python",
   "name": "python3"
  },
  "language_info": {
   "codemirror_mode": {
    "name": "ipython",
    "version": 3
   },
   "file_extension": ".py",
   "mimetype": "text/x-python",
   "name": "python",
   "nbconvert_exporter": "python",
   "pygments_lexer": "ipython3",
   "version": "3.7.6"
  }
 },
 "nbformat": 4,
 "nbformat_minor": 4
}
