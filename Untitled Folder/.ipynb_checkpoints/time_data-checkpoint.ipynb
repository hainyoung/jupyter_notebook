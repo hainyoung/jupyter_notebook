{
 "cells": [
  {
   "cell_type": "code",
   "execution_count": 1,
   "metadata": {},
   "outputs": [],
   "source": [
    "import pandas as pd"
   ]
  },
  {
   "cell_type": "code",
   "execution_count": 4,
   "metadata": {},
   "outputs": [],
   "source": [
    "datetime = pd.date_range(start='2020-11-16 18:55:36', end = '2020-11-17 20:00:00', freq='S')"
   ]
  },
  {
   "cell_type": "code",
   "execution_count": 5,
   "metadata": {},
   "outputs": [
    {
     "data": {
      "text/plain": [
       "DatetimeIndex(['2020-11-16 18:55:36', '2020-11-16 18:55:37',\n",
       "               '2020-11-16 18:55:38', '2020-11-16 18:55:39',\n",
       "               '2020-11-16 18:55:40', '2020-11-16 18:55:41',\n",
       "               '2020-11-16 18:55:42', '2020-11-16 18:55:43',\n",
       "               '2020-11-16 18:55:44', '2020-11-16 18:55:45',\n",
       "               ...\n",
       "               '2020-11-17 19:59:51', '2020-11-17 19:59:52',\n",
       "               '2020-11-17 19:59:53', '2020-11-17 19:59:54',\n",
       "               '2020-11-17 19:59:55', '2020-11-17 19:59:56',\n",
       "               '2020-11-17 19:59:57', '2020-11-17 19:59:58',\n",
       "               '2020-11-17 19:59:59', '2020-11-17 20:00:00'],\n",
       "              dtype='datetime64[ns]', length=90265, freq='S')"
      ]
     },
     "execution_count": 5,
     "metadata": {},
     "output_type": "execute_result"
    }
   ],
   "source": [
    "datetime"
   ]
  },
  {
   "cell_type": "code",
   "execution_count": 13,
   "metadata": {},
   "outputs": [],
   "source": [
    "df = pd.DataFrame(datetime, columns = ['datetime'])"
   ]
  },
  {
   "cell_type": "code",
   "execution_count": 14,
   "metadata": {},
   "outputs": [
    {
     "data": {
      "text/html": [
       "<div>\n",
       "<style scoped>\n",
       "    .dataframe tbody tr th:only-of-type {\n",
       "        vertical-align: middle;\n",
       "    }\n",
       "\n",
       "    .dataframe tbody tr th {\n",
       "        vertical-align: top;\n",
       "    }\n",
       "\n",
       "    .dataframe thead th {\n",
       "        text-align: right;\n",
       "    }\n",
       "</style>\n",
       "<table border=\"1\" class=\"dataframe\">\n",
       "  <thead>\n",
       "    <tr style=\"text-align: right;\">\n",
       "      <th></th>\n",
       "      <th>datetime</th>\n",
       "    </tr>\n",
       "  </thead>\n",
       "  <tbody>\n",
       "    <tr>\n",
       "      <th>0</th>\n",
       "      <td>2020-11-16 18:55:36</td>\n",
       "    </tr>\n",
       "    <tr>\n",
       "      <th>1</th>\n",
       "      <td>2020-11-16 18:55:37</td>\n",
       "    </tr>\n",
       "    <tr>\n",
       "      <th>2</th>\n",
       "      <td>2020-11-16 18:55:38</td>\n",
       "    </tr>\n",
       "    <tr>\n",
       "      <th>3</th>\n",
       "      <td>2020-11-16 18:55:39</td>\n",
       "    </tr>\n",
       "    <tr>\n",
       "      <th>4</th>\n",
       "      <td>2020-11-16 18:55:40</td>\n",
       "    </tr>\n",
       "    <tr>\n",
       "      <th>...</th>\n",
       "      <td>...</td>\n",
       "    </tr>\n",
       "    <tr>\n",
       "      <th>90260</th>\n",
       "      <td>2020-11-17 19:59:56</td>\n",
       "    </tr>\n",
       "    <tr>\n",
       "      <th>90261</th>\n",
       "      <td>2020-11-17 19:59:57</td>\n",
       "    </tr>\n",
       "    <tr>\n",
       "      <th>90262</th>\n",
       "      <td>2020-11-17 19:59:58</td>\n",
       "    </tr>\n",
       "    <tr>\n",
       "      <th>90263</th>\n",
       "      <td>2020-11-17 19:59:59</td>\n",
       "    </tr>\n",
       "    <tr>\n",
       "      <th>90264</th>\n",
       "      <td>2020-11-17 20:00:00</td>\n",
       "    </tr>\n",
       "  </tbody>\n",
       "</table>\n",
       "<p>90265 rows × 1 columns</p>\n",
       "</div>"
      ],
      "text/plain": [
       "                 datetime\n",
       "0     2020-11-16 18:55:36\n",
       "1     2020-11-16 18:55:37\n",
       "2     2020-11-16 18:55:38\n",
       "3     2020-11-16 18:55:39\n",
       "4     2020-11-16 18:55:40\n",
       "...                   ...\n",
       "90260 2020-11-17 19:59:56\n",
       "90261 2020-11-17 19:59:57\n",
       "90262 2020-11-17 19:59:58\n",
       "90263 2020-11-17 19:59:59\n",
       "90264 2020-11-17 20:00:00\n",
       "\n",
       "[90265 rows x 1 columns]"
      ]
     },
     "execution_count": 14,
     "metadata": {},
     "output_type": "execute_result"
    }
   ],
   "source": [
    "df"
   ]
  },
  {
   "cell_type": "code",
   "execution_count": 15,
   "metadata": {},
   "outputs": [
    {
     "name": "stdout",
     "output_type": "stream",
     "text": [
      "<class 'pandas.core.frame.DataFrame'>\n",
      "RangeIndex: 90265 entries, 0 to 90264\n",
      "Data columns (total 1 columns):\n",
      " #   Column    Non-Null Count  Dtype         \n",
      "---  ------    --------------  -----         \n",
      " 0   datetime  90265 non-null  datetime64[ns]\n",
      "dtypes: datetime64[ns](1)\n",
      "memory usage: 705.3 KB\n"
     ]
    }
   ],
   "source": [
    "df.info()"
   ]
  },
  {
   "cell_type": "code",
   "execution_count": null,
   "metadata": {},
   "outputs": [],
   "source": []
  }
 ],
 "metadata": {
  "kernelspec": {
   "display_name": "Python 3",
   "language": "python",
   "name": "python3"
  },
  "language_info": {
   "codemirror_mode": {
    "name": "ipython",
    "version": 3
   },
   "file_extension": ".py",
   "mimetype": "text/x-python",
   "name": "python",
   "nbconvert_exporter": "python",
   "pygments_lexer": "ipython3",
   "version": "3.7.6"
  }
 },
 "nbformat": 4,
 "nbformat_minor": 4
}
