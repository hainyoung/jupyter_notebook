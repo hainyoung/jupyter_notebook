{
 "cells": [
  {
   "cell_type": "code",
   "execution_count": null,
   "metadata": {},
   "outputs": [],
   "source": [
    "# CHAPTER 01. 데이터"
   ]
  },
  {
   "cell_type": "code",
   "execution_count": 1,
   "metadata": {},
   "outputs": [],
   "source": [
    "import pandas as pd"
   ]
  },
  {
   "cell_type": "code",
   "execution_count": 3,
   "metadata": {},
   "outputs": [],
   "source": [
    "df = pd.read_csv('../python_stat_sample-master/data/ch1_sport_test.csv', index_col = '학생번호')"
   ]
  },
  {
   "cell_type": "code",
   "execution_count": 4,
   "metadata": {},
   "outputs": [
    {
     "data": {
      "text/html": [
       "<div>\n",
       "<style scoped>\n",
       "    .dataframe tbody tr th:only-of-type {\n",
       "        vertical-align: middle;\n",
       "    }\n",
       "\n",
       "    .dataframe tbody tr th {\n",
       "        vertical-align: top;\n",
       "    }\n",
       "\n",
       "    .dataframe thead th {\n",
       "        text-align: right;\n",
       "    }\n",
       "</style>\n",
       "<table border=\"1\" class=\"dataframe\">\n",
       "  <thead>\n",
       "    <tr style=\"text-align: right;\">\n",
       "      <th></th>\n",
       "      <th>학년</th>\n",
       "      <th>악력</th>\n",
       "      <th>윗몸일으키기</th>\n",
       "      <th>점수</th>\n",
       "      <th>순위</th>\n",
       "    </tr>\n",
       "    <tr>\n",
       "      <th>학생번호</th>\n",
       "      <th></th>\n",
       "      <th></th>\n",
       "      <th></th>\n",
       "      <th></th>\n",
       "      <th></th>\n",
       "    </tr>\n",
       "  </thead>\n",
       "  <tbody>\n",
       "    <tr>\n",
       "      <th>1</th>\n",
       "      <td>1</td>\n",
       "      <td>40.2</td>\n",
       "      <td>34</td>\n",
       "      <td>15</td>\n",
       "      <td>4</td>\n",
       "    </tr>\n",
       "    <tr>\n",
       "      <th>2</th>\n",
       "      <td>1</td>\n",
       "      <td>34.2</td>\n",
       "      <td>14</td>\n",
       "      <td>7</td>\n",
       "      <td>10</td>\n",
       "    </tr>\n",
       "    <tr>\n",
       "      <th>3</th>\n",
       "      <td>1</td>\n",
       "      <td>28.8</td>\n",
       "      <td>27</td>\n",
       "      <td>11</td>\n",
       "      <td>7</td>\n",
       "    </tr>\n",
       "    <tr>\n",
       "      <th>4</th>\n",
       "      <td>2</td>\n",
       "      <td>39.0</td>\n",
       "      <td>27</td>\n",
       "      <td>14</td>\n",
       "      <td>5</td>\n",
       "    </tr>\n",
       "    <tr>\n",
       "      <th>5</th>\n",
       "      <td>2</td>\n",
       "      <td>50.9</td>\n",
       "      <td>32</td>\n",
       "      <td>17</td>\n",
       "      <td>2</td>\n",
       "    </tr>\n",
       "    <tr>\n",
       "      <th>6</th>\n",
       "      <td>2</td>\n",
       "      <td>36.5</td>\n",
       "      <td>20</td>\n",
       "      <td>9</td>\n",
       "      <td>9</td>\n",
       "    </tr>\n",
       "    <tr>\n",
       "      <th>7</th>\n",
       "      <td>3</td>\n",
       "      <td>36.6</td>\n",
       "      <td>31</td>\n",
       "      <td>13</td>\n",
       "      <td>6</td>\n",
       "    </tr>\n",
       "    <tr>\n",
       "      <th>8</th>\n",
       "      <td>3</td>\n",
       "      <td>49.2</td>\n",
       "      <td>37</td>\n",
       "      <td>18</td>\n",
       "      <td>1</td>\n",
       "    </tr>\n",
       "    <tr>\n",
       "      <th>9</th>\n",
       "      <td>3</td>\n",
       "      <td>26.0</td>\n",
       "      <td>28</td>\n",
       "      <td>10</td>\n",
       "      <td>8</td>\n",
       "    </tr>\n",
       "    <tr>\n",
       "      <th>10</th>\n",
       "      <td>3</td>\n",
       "      <td>47.4</td>\n",
       "      <td>32</td>\n",
       "      <td>16</td>\n",
       "      <td>3</td>\n",
       "    </tr>\n",
       "  </tbody>\n",
       "</table>\n",
       "</div>"
      ],
      "text/plain": [
       "      학년    악력  윗몸일으키기  점수  순위\n",
       "학생번호                          \n",
       "1      1  40.2      34  15   4\n",
       "2      1  34.2      14   7  10\n",
       "3      1  28.8      27  11   7\n",
       "4      2  39.0      27  14   5\n",
       "5      2  50.9      32  17   2\n",
       "6      2  36.5      20   9   9\n",
       "7      3  36.6      31  13   6\n",
       "8      3  49.2      37  18   1\n",
       "9      3  26.0      28  10   8\n",
       "10     3  47.4      32  16   3"
      ]
     },
     "execution_count": 4,
     "metadata": {},
     "output_type": "execute_result"
    }
   ],
   "source": [
    "df"
   ]
  },
  {
   "cell_type": "code",
   "execution_count": 5,
   "metadata": {},
   "outputs": [
    {
     "data": {
      "text/plain": [
       "학생번호\n",
       "1     40.2\n",
       "2     34.2\n",
       "3     28.8\n",
       "4     39.0\n",
       "5     50.9\n",
       "6     36.5\n",
       "7     36.6\n",
       "8     49.2\n",
       "9     26.0\n",
       "10    47.4\n",
       "Name: 악력, dtype: float64"
      ]
     },
     "execution_count": 5,
     "metadata": {},
     "output_type": "execute_result"
    }
   ],
   "source": [
    "df['악력'] \n",
    "# 특정 열 추출 : DataFrame이 아닌 Series 라는 데이터 구조\n",
    "# DataFrame은 2차원의 표 데이터 구조인 반면, Series는 1차원의 데이터 구조이다        "
   ]
  },
  {
   "cell_type": "code",
   "execution_count": 7,
   "metadata": {},
   "outputs": [],
   "source": [
    "# 1.1 데이터의 크기\n",
    "# 데이터가 주어지면 제일 먼저 확인하는 것이 데이터의 크기\n",
    "# DataFrame의 크기는 shape라는 인스턴스 변수를 참조하면 알 수 있다"
   ]
  },
  {
   "cell_type": "code",
   "execution_count": 8,
   "metadata": {},
   "outputs": [
    {
     "data": {
      "text/plain": [
       "(10, 5)"
      ]
     },
     "execution_count": 8,
     "metadata": {},
     "output_type": "execute_result"
    }
   ],
   "source": [
    "df.shape"
   ]
  },
  {
   "cell_type": "code",
   "execution_count": 9,
   "metadata": {},
   "outputs": [],
   "source": [
    "# 일반적으로 shape를 참조하면 2개의 수가 출력된다\n",
    "# 첫 번째가 데이터에 대한 수이고 두 번째가 변수에 대한 수이다\n",
    "# 데이터베이스라면 각각 레코드 수, 칼럼 수가 된다\n",
    "# 여기서는 데이터의 수가 10, 변수의 수가 5이다\n",
    "# 변수는 학년이나 악력 같은 측정 대상을 가리킨다\n",
    "# 이 데이터에는 변수가 5개 있으므로 5변수 또는 5차원이라고 한다\n",
    "# 학생번호의 경우에는 여기서 인덱스로 이용되고 있으므로 변수 개수에 포함되지 않았지만 원래 변수 중 하나이다\n",
    "# 통계분석에서는 먼저 1변수씩 어떤 특징이 있는지 알아보고 그 다음으로 변수 사이의 관계성을 살펴본다"
   ]
  },
  {
   "cell_type": "code",
   "execution_count": 11,
   "metadata": {},
   "outputs": [],
   "source": [
    "# 1.2 변수의 종류\n",
    "# 변수는 그 성질에 따라 다양하게 분류할 수 있다\n",
    "\n",
    "# 1.2.1. 질적 변수와 양적 변수\n",
    "# 변수는 크게 질적 변수와 양적 변수 두 가지로 분류할 수 있다\n",
    "# 질적변수의 예 \n",
    "# 만족도 : 매우 좋음, 좋음, 보통, 나쁨, 매우 나쁨\n",
    "# 혈액형 : A형, B형, O형, AB형\n",
    "# 종류를 구별하기 위한 변수\n",
    "# 질적 변수 중에서도 남성과 여성, 흡연 여부 등 값이 2개뿐인 질적 변수를 2진변수라고 부르기도 함\n",
    "\n",
    "# 한편, 시험 점수나 신장과 같이 양을 표현하는 변수를 양적 변수라고 한다\n",
    "# 주의!\n",
    "# 남성이나 여성은 질적 변수이지만 데이터상에서 쉽게 처리하기 위해 남성은 0, 여성은 1과 같이 숫자 데이터로 표시하는 경우가 있다\n",
    "# 즉, 수치 변수라고 해서 전부 양적 변수는 아니다"
   ]
  },
  {
   "cell_type": "code",
   "execution_count": 12,
   "metadata": {},
   "outputs": [],
   "source": [
    "# 1.2.2 척도 수준\n",
    "# 질적 변수는 명의 척도와 순서 척도, 양적 변수는 간격 척도와 비례 척도로 더 세분화 된다\n",
    "# 이 네 가지를 척도 수준이라고 한다\n",
    "\n",
    "# 명의 척도\n",
    "# 명의 척도는 단순히 분류하기 위한 변수로 학생번호나 전화번호, 성별 등이 있다\n",
    "# 명의 척도의 목적은 구별하는 것이므로, 변수의 동일성 여부에만 의미를 둔다\n",
    "# ex) 학생번호 4와 학생번호 8의 대소 관계는 의미가 없고 합과 차를 계산하더라도 의미있는 결과를 얻을 수 없다\n",
    "\n",
    "# 순서 척도\n",
    "# 순서 척도는 관계나 대소 관계에 의미가 있는 변수로, 성적 순위, 설문 조사의 만족도 등이 있다\n",
    "# 성적 순위에서 8등은 4등보다 순위가 낮으므로 대소 관계에 의미가 없다\n",
    "# 그러나 4등과 8등의 차이가 8등과 12등의 차이와 동일하다고 비교할 수는 없고, 4등은 8등의 2배라고 주장할 수도 없다\n",
    "\n",
    "# 간격 척도\n",
    "# 간격 척도는 대소 관계와 함께 그 차이에도 의미를 두는 변수로 연도나 온도가 그 예이다\n",
    "# 60도는 30도보다 높은 온도이므로 대소 관계에 의마가 있고 그 차이에 해당하는 수치도 의미가 있다\n",
    "# 그러나 60도가 30도보다 2배 높은 온도라고 할 수는 없다\n",
    "\n",
    "# 비례 척도\n",
    "# 비례 척도는 대소 관계, 차이, 비 모두에 의미가 있는 변수로 길이나 무게 등이 있다\n",
    "# 길이에서 50cm와 100cm의 차이가 50cm라는 것도, 100cm는 50cm의 2배라는 것도 의미가 있다\n",
    "\n",
    "# 간격 척도와 비례 척도는 비슷하므로 구별하기가 어려울 떄가 있다\n",
    "# 두 척도를 구별하는 요령은 0이 '없음'을 나타내는지 여부를 판단하면 된다\n",
    "# 길이에서 0cm는 길이가 없음을 나타내지만, 온도에서 0도는 온도가 없다는 뜻이 아니다"
   ]
  },
  {
   "cell_type": "code",
   "execution_count": 13,
   "metadata": {},
   "outputs": [],
   "source": [
    "# 1.2.3 이산형 변수와 연속형 변수\n",
    "# 변수를 질적/양적 변수가 아닌 이산형/연속형 변수로 나누어 분류할 수도 있다\n",
    "\n",
    "# 이산형 변수는 0, 1, 2, ... 와 같이 하나하나의 값을 취하는 변수로 서로 인접한 숫자 사이에 값이 존재하지 않는다\n",
    "# 예를 들어 주사위의 눈은 1, 2, 3, 4, 5, 6이라는 값을 취하고 1.3이라는 어중간한 값을 취하지 않으므로 이산형 변수로 분류된다\n",
    "# 학교를 결한 횟수나 결석한 학생 수와 같은 계수도 이산형 변수이다\n",
    "\n",
    "# 연속형 변수는 연속적인 값을 취할 수 있는 변수로, 어떤 두 숫자 사이에도 반드시 숫자가 존재한다\n",
    "# 길이나 무게, 시간 등은 대표적인 연속형 변수이다\n",
    "\n",
    "# 실제로 다루는 데이터는 연속형 변수라도 측정 정밀도에 한계가 있어 띄엄띄엄 떨어진 값을 취할 수밖에 없다는 점에 주의!\n",
    "# 예를 들어 키를 소수점 첫 번째 자리까지의 정밀도로 측정하면, \n",
    "# 170.3cm와 170.4cm 사이에는 숫자가 존재하지 않아 엄밀하게 말하면 이산형 변수로 분류된다\n",
    "# 이와 같이 측정 정밀도의 문제로 이산형이 되는 변수는 상당수 연속형 변수로 취급한다"
   ]
  },
  {
   "cell_type": "code",
   "execution_count": null,
   "metadata": {},
   "outputs": [],
   "source": []
  }
 ],
 "metadata": {
  "kernelspec": {
   "display_name": "Python 3",
   "language": "python",
   "name": "python3"
  },
  "language_info": {
   "codemirror_mode": {
    "name": "ipython",
    "version": 3
   },
   "file_extension": ".py",
   "mimetype": "text/x-python",
   "name": "python",
   "nbconvert_exporter": "python",
   "pygments_lexer": "ipython3",
   "version": "3.6.5"
  }
 },
 "nbformat": 4,
 "nbformat_minor": 4
}
