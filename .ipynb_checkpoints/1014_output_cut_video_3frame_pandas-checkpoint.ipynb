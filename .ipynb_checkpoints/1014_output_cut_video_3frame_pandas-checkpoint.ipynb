{
 "cells": [
  {
   "cell_type": "code",
   "execution_count": 6,
   "metadata": {},
   "outputs": [],
   "source": [
    "import pandas as pd\n",
    "import numpy as np"
   ]
  },
  {
   "cell_type": "code",
   "execution_count": 8,
   "metadata": {},
   "outputs": [],
   "source": [
    "df = pd.read_csv(\"H:/hainyoung/project/csv/1014_output_cut_video_3frame.csv\", encoding = \"utf-8\")"
   ]
  },
  {
   "cell_type": "code",
   "execution_count": 9,
   "metadata": {},
   "outputs": [
    {
     "name": "stdout",
     "output_type": "stream",
     "text": [
      "          time  speed  lane  auto  lane_white_avg  lane_green_avg  \\\n",
      "0     10:45:20   28.0   0.0   0.0          3.3418             0.0   \n",
      "1     10:45:21   20.0   0.0   0.0          3.1986             0.0   \n",
      "2     10:45:21   21.0   0.0   0.0          3.2623             0.0   \n",
      "3     10:45:22    NaN   0.0   0.0          3.4163             0.0   \n",
      "4     10:45:22    NaN   0.0   0.0          3.6999             0.0   \n",
      "...        ...    ...   ...   ...             ...             ...   \n",
      "8673  11:33:30    NaN   0.0   0.0          0.0000             0.0   \n",
      "8674  11:33:31    NaN   0.0   0.0          0.0000             0.0   \n",
      "8675  11:33:31    NaN   0.0   0.0          0.0000             0.0   \n",
      "8676  11:33:31    NaN   0.0   0.0          0.0000             0.0   \n",
      "8677  11:33:32    NaN   0.0   0.0          0.0000             0.0   \n",
      "\n",
      "      auto_white_avg  auto_green_avg  \n",
      "0                0.0             0.0  \n",
      "1                0.0             0.0  \n",
      "2                0.0             0.0  \n",
      "3                0.0             0.0  \n",
      "4                0.0             0.0  \n",
      "...              ...             ...  \n",
      "8673             0.0             0.0  \n",
      "8674             0.0             0.0  \n",
      "8675             0.0             0.0  \n",
      "8676             0.0             0.0  \n",
      "8677             0.0             0.0  \n",
      "\n",
      "[8678 rows x 8 columns]\n"
     ]
    }
   ],
   "source": [
    "print(df)"
   ]
  },
  {
   "cell_type": "code",
   "execution_count": 10,
   "metadata": {},
   "outputs": [
    {
     "name": "stdout",
     "output_type": "stream",
     "text": [
      "<class 'pandas.core.frame.DataFrame'>\n",
      "RangeIndex: 8678 entries, 0 to 8677\n",
      "Data columns (total 8 columns):\n",
      " #   Column          Non-Null Count  Dtype  \n",
      "---  ------          --------------  -----  \n",
      " 0   time            5067 non-null   object \n",
      " 1   speed           3789 non-null   float64\n",
      " 2   lane            8675 non-null   float64\n",
      " 3   auto            8675 non-null   float64\n",
      " 4   lane_white_avg  8675 non-null   float64\n",
      " 5   lane_green_avg  8675 non-null   float64\n",
      " 6   auto_white_avg  8675 non-null   float64\n",
      " 7   auto_green_avg  8673 non-null   float64\n",
      "dtypes: float64(7), object(1)\n",
      "memory usage: 542.5+ KB\n",
      "None\n"
     ]
    }
   ],
   "source": [
    "print(df.info())"
   ]
  },
  {
   "cell_type": "code",
   "execution_count": 11,
   "metadata": {},
   "outputs": [
    {
     "name": "stdout",
     "output_type": "stream",
     "text": [
      "               speed         lane         auto  lane_white_avg  \\\n",
      "count    3789.000000  8675.000000  8675.000000     8675.000000   \n",
      "mean      291.195830     0.040922     0.308357        1.991269   \n",
      "std      9991.826216     0.198121     0.461842        7.169857   \n",
      "min         0.000000     0.000000     0.000000        0.000000   \n",
      "25%        43.000000     0.000000     0.000000        0.000000   \n",
      "50%        70.000000     0.000000     0.000000        0.000000   \n",
      "75%        83.000000     0.000000     1.000000        1.883850   \n",
      "max    452495.000000     1.000000     1.000000      231.000000   \n",
      "\n",
      "       lane_green_avg  auto_white_avg  auto_green_avg  \n",
      "count     8675.000000     8675.000000     8673.000000  \n",
      "mean         0.234258        0.443515        1.262591  \n",
      "std          1.389815        5.801512        2.360838  \n",
      "min          0.000000        0.000000        0.000000  \n",
      "25%          0.000000        0.000000        0.000000  \n",
      "50%          0.000000        0.000000        0.000000  \n",
      "75%          0.000000        0.000000        1.499600  \n",
      "max         18.191000      231.000000       16.341200  \n"
     ]
    }
   ],
   "source": [
    "print(df.describe())"
   ]
  },
  {
   "cell_type": "code",
   "execution_count": 12,
   "metadata": {},
   "outputs": [
    {
     "name": "stdout",
     "output_type": "stream",
     "text": [
      "time              5067\n",
      "speed             3789\n",
      "lane              8675\n",
      "auto              8675\n",
      "lane_white_avg    8675\n",
      "lane_green_avg    8675\n",
      "auto_white_avg    8675\n",
      "auto_green_avg    8673\n",
      "dtype: int64\n"
     ]
    }
   ],
   "source": [
    "print(df.count())"
   ]
  },
  {
   "cell_type": "code",
   "execution_count": 14,
   "metadata": {},
   "outputs": [
    {
     "name": "stdout",
     "output_type": "stream",
     "text": [
      "time              3611\n",
      "speed             4889\n",
      "lane                 3\n",
      "auto                 3\n",
      "lane_white_avg       3\n",
      "lane_green_avg       3\n",
      "auto_white_avg       3\n",
      "auto_green_avg       5\n",
      "dtype: int64\n"
     ]
    }
   ],
   "source": [
    "print(df.isnull().sum())"
   ]
  },
  {
   "cell_type": "code",
   "execution_count": null,
   "metadata": {},
   "outputs": [],
   "source": []
  }
 ],
 "metadata": {
  "kernelspec": {
   "display_name": "Python 3",
   "language": "python",
   "name": "python3"
  },
  "language_info": {
   "codemirror_mode": {
    "name": "ipython",
    "version": 3
   },
   "file_extension": ".py",
   "mimetype": "text/x-python",
   "name": "python",
   "nbconvert_exporter": "python",
   "pygments_lexer": "ipython3",
   "version": "3.7.6"
  }
 },
 "nbformat": 4,
 "nbformat_minor": 4
}
